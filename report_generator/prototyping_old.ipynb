{
 "cells": [
  {
   "cell_type": "code",
   "execution_count": 13,
   "outputs": [],
   "source": [
    "import openpyxl as pyxl\n",
    "import pandas as pd\n",
    "from itertools import islice\n",
    "excel_report = pyxl.load_workbook(\"./mocks/excel_reports/10-K-20.xlsx\")\n"
   ],
   "metadata": {
    "collapsed": false,
    "pycharm": {
     "name": "#%%\n"
    }
   }
  },
  {
   "cell_type": "code",
   "execution_count": 14,
   "outputs": [
    {
     "name": "stderr",
     "output_type": "stream",
     "text": [
      "<ipython-input-14-ebc0e1683fc9>:8: DeprecationWarning: Call to deprecated function get_sheet_by_name (Use wb[sheetname]).\n",
      "  excel_report.remove(excel_report.get_sheet_by_name(sheet_name))\n"
     ]
    }
   ],
   "source": [
    "##Code here works want to keep it.\n",
    "\n",
    "sheets_name_series = pd.Series(excel_report.sheetnames)\n",
    "pattern = '^Condensed|^Consolidated|^CONSOLIDATED|^CONDENSED|^condensed|^consolidated'\n",
    "to_keep = sheets_name_series.str.contains(pattern)\n",
    "to_drop = (sheets_name_series[~to_keep])[1:]\n",
    "for sheet_name in to_drop:\n",
    "    excel_report.remove(excel_report.get_sheet_by_name(sheet_name))"
   ],
   "metadata": {
    "collapsed": false,
    "pycharm": {
     "name": "#%%\n"
    }
   }
  },
  {
   "cell_type": "code",
   "execution_count": 15,
   "outputs": [],
   "source": [
    "## gonna try this again but also try to concat the cell below the merged column\n",
    "\n",
    "for sheets in excel_report.worksheets:\n",
    "    while sheets.merged_cells.ranges:\n",
    "        range = str(sheets.merged_cells.ranges[0])\n",
    "        sheets.unmerge_cells(range)\n",
    "        if len(sheets[range]) == 1:\n",
    "            for col_cell in sheets[range][0]:\n",
    "                # haven't seen a spreadsheet yet where this isnt the case for merged cells at the top.\n",
    "                next_coord = col_cell.coordinate[0] + '2'\n",
    "                sheets[next_coord].value = sheets[next_coord].value + ' - ' + sheets[range][0][0].value\n",
    "            sheets[range][0][0].value = None"
   ],
   "metadata": {
    "collapsed": false,
    "pycharm": {
     "name": "#%%\n"
    }
   }
  },
  {
   "cell_type": "markdown",
   "source": [
    "## Notes: the merged_cells.ranges returns a range... then access those cells in sheets[range]\n",
    "## returns a tuple of tuples. if it is all the same column then it is n-tuple. if it is range\n",
    "## columns then it is a 1-tuple.\n",
    "## https://openpyxl.readthedocs.io/en/stable/tutorial.html\n",
    "\n",
    "## Unmerged cells, work and saw the output.\n",
    "for sheets in sheets_dict.values():\n",
    "    while sheets.merged_cells.ranges:\n",
    "        range = str(sheets.merged_cells.ranges[0])\n",
    "        sheets.unmerge_cells(range)\n",
    "        if len(sheets[range]) == 1:\n",
    "            for col_cell in sheets[range][0]:\n",
    "                col_cell.value = sheets[range][0][0].value"
   ],
   "metadata": {
    "collapsed": false,
    "pycharm": {
     "name": "#%% md\n"
    }
   }
  },
  {
   "cell_type": "code",
   "execution_count": 16,
   "outputs": [
    {
     "name": "stdout",
     "output_type": "stream",
     "text": [
      "['Document And Entity Information', 'Consolidated Balance Sheets', 'Consolidated Balance Sheets (Parentheticals)', 'Consolidated Statements of Operations', 'Consolidated Statements of Comprehensive Income (Loss)', 'Consolidated Statements of Cash Flows', \"Consolidated Statements of Stockholders' Equity\", \"Consolidated Statements of Stockholders' Equity (Parentheticals)\"]\n"
     ]
    },
    {
     "name": "stderr",
     "output_type": "stream",
     "text": [
      "C:\\Users\\Tutrie\\anaconda3\\envs\\CMSC435\\lib\\site-packages\\openpyxl\\workbook\\child.py:99: UserWarning: Title is more than 31 characters. Some applications may not be able to read the file\n",
      "  warnings.warn(\"Title is more than 31 characters. Some applications may not be able to read the file\")\n"
     ]
    }
   ],
   "source": [
    "## note when saving back into excel must rename the sheet names with a 31 character limit.\n",
    "## thus will have to undo this but it is necessary for pandas\n",
    "\n",
    "for sheets in excel_report.worksheets:\n",
    "    to_cut = sheets['A1'].value.index('-')\n",
    "    sheets.title = sheets['A1'].value[:to_cut-1]\n",
    "    sheets['A1'].value = sheets['A1'].value[to_cut+2:]\n",
    "\n",
    "print(excel_report.sheetnames)"
   ],
   "metadata": {
    "collapsed": false,
    "pycharm": {
     "name": "#%%\n"
    }
   }
  },
  {
   "cell_type": "code",
   "execution_count": 17,
   "outputs": [],
   "source": [
    "sheets_dict = {}\n",
    "for sheets in excel_report.worksheets:\n",
    "    notes = sheets['A1'].value\n",
    "    sheets['A1'].value = None\n",
    "    if sheets['B1'].value == None:\n",
    "        sheets.delete_rows(1)\n",
    "    data = sheets.values\n",
    "    cols = next(data)[1:]\n",
    "    data = list(data)\n",
    "    idx = [r[0] for r in data]\n",
    "    data = (islice(r, 1, None) for r in data)\n",
    "    sheets_dict[sheets.title] = (pd.DataFrame(data, index=idx, columns=cols), notes)\n",
    "\n",
    "excel_report.save('test.xlsx')"
   ],
   "metadata": {
    "collapsed": false,
    "pycharm": {
     "name": "#%%\n"
    }
   }
  },
  {
   "cell_type": "code",
   "execution_count": 18,
   "outputs": [],
   "source": [
    "for df in sheets_dict.values():\n",
    "    df\n",
    "    break"
   ],
   "metadata": {
    "collapsed": false,
    "pycharm": {
     "name": "#%%\n"
    }
   }
  },
  {
   "cell_type": "code",
   "execution_count": 19,
   "outputs": [
    {
     "data": {
      "text/plain": "(                                                              12 Months Ended  \\\n NaN                                                             Nov. 28, 2020   \n Document Information [Line Items]                                        None   \n Entity Central Index Key                                           0000010329   \n Entity Registrant Name                       BASSETT FURNITURE INDUSTRIES INC   \n Amendment Flag                                                          false   \n Current Fiscal Year End Date                                          --11-28   \n Document Fiscal Period Focus                                               FY   \n Document Fiscal Year Focus                                               2020   \n Document Type                                                            10-K   \n Document Annual Report                                                   true   \n Document Period End Date                                   Nov. 28,\\n\\t\\t2020   \n Document Transition Report                                              false   \n Entity File Number                                                  000-00209   \n Entity Incorporation, State or Country Code                                VA   \n Entity Tax Identification Number                                   54-0135270   \n Entity Address, Address Line One                 3525 Fairystone Park Highway   \n Entity Address, City or Town                                          Bassett   \n Entity Address, State or Province                                          VA   \n Entity Address, Postal Zip Code                                         24055   \n City Area Code                                                            276   \n Local Phone Number                                                   629-6000   \n Title of 12(b) Security                        Common Stock ($5.00 par value)   \n Trading Symbol                                                           BSET   \n Security Exchange Name                                                 NASDAQ   \n Entity Well-known Seasoned Issuer                                          No   \n Entity Voluntary Filers                                                    No   \n Entity Current Reporting Status                                           Yes   \n Entity Interactive Data Current                                           Yes   \n Entity Filer Category                                       Accelerated Filer   \n Entity Small Business                                                   false   \n Entity Emerging Growth Company                                          false   \n Entity Shell Company                                                    false   \n Entity Public Float                                                      None   \n Entity Common Stock, Shares Outstanding                                  None   \n \n                                                        NaN           NaN  \n NaN                                          Jan. 15, 2021  May 30, 2020  \n Document Information [Line Items]                     None          None  \n Entity Central Index Key                              None          None  \n Entity Registrant Name                                None          None  \n Amendment Flag                                        None          None  \n Current Fiscal Year End Date                          None          None  \n Document Fiscal Period Focus                          None          None  \n Document Fiscal Year Focus                            None          None  \n Document Type                                         None          None  \n Document Annual Report                                None          None  \n Document Period End Date                              None          None  \n Document Transition Report                            None          None  \n Entity File Number                                    None          None  \n Entity Incorporation, State or Country Code           None          None  \n Entity Tax Identification Number                      None          None  \n Entity Address, Address Line One                      None          None  \n Entity Address, City or Town                          None          None  \n Entity Address, State or Province                     None          None  \n Entity Address, Postal Zip Code                       None          None  \n City Area Code                                        None          None  \n Local Phone Number                                    None          None  \n Title of 12(b) Security                               None          None  \n Trading Symbol                                        None          None  \n Security Exchange Name                                None          None  \n Entity Well-known Seasoned Issuer                     None          None  \n Entity Voluntary Filers                               None          None  \n Entity Current Reporting Status                       None          None  \n Entity Interactive Data Current                       None          None  \n Entity Filer Category                                 None          None  \n Entity Small Business                                 None          None  \n Entity Emerging Growth Company                        None          None  \n Entity Shell Company                                  None          None  \n Entity Public Float                                   None      68257836  \n Entity Common Stock, Shares Outstanding            9949008          None  ,\n 'USD ($)')"
     },
     "execution_count": 19,
     "metadata": {},
     "output_type": "execute_result"
    }
   ],
   "source": [
    "list(sheets_dict.values())[0]"
   ],
   "metadata": {
    "collapsed": false,
    "pycharm": {
     "name": "#%%\n"
    }
   }
  }
 ],
 "metadata": {
  "kernelspec": {
   "name": "pycharm-3e182fa1",
   "language": "python",
   "display_name": "PyCharm (TeamProject)"
  },
  "language_info": {
   "codemirror_mode": {
    "name": "ipython",
    "version": 2
   },
   "file_extension": ".py",
   "mimetype": "text/x-python",
   "name": "python",
   "nbconvert_exporter": "python",
   "pygments_lexer": "ipython2",
   "version": "2.7.6"
  }
 },
 "nbformat": 4,
 "nbformat_minor": 0
}