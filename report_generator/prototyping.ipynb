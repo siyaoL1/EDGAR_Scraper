{
 "cells": [
  {
   "cell_type": "code",
   "execution_count": 1,
   "metadata": {
    "collapsed": true
   },
   "outputs": [],
   "source": [
    "#from utils.report_cleaner import excelcleaner\n",
    "from report_generator.utils.report_cleaner.excelToPandasToJson import ConvertCleanSave\n",
    "import utils\n",
    "import pandas as pd\n",
    "\n",
    "file_path1 = \"./mocks/excel_reports/10-K-19.xlsx\"\n",
    "file_path2 = \"./mocks/excel_reports/10-K-20.xlsx\""
   ]
  },
  {
   "cell_type": "code",
   "execution_count": 2,
   "outputs": [
    {
     "name": "stderr",
     "output_type": "stream",
     "text": [
      "C:\\Users\\Tutrie\\anaconda3\\envs\\CMSC435\\lib\\site-packages\\openpyxl\\workbook\\child.py:99: UserWarning: Title is more than 31 characters. Some applications may not be able to read the file\n",
      "  warnings.warn(\"Title is more than 31 characters. Some applications may not be able to read the file\")\n",
      "C:\\Users\\Tutrie\\Downloads\\CMSC435\\Homeworks\\TeamProject\\report_generator\\utils\\report_cleaner\\cleaner.py:21: SettingWithCopyWarning: \n",
      "A value is trying to be set on a copy of a slice from a DataFrame\n",
      "\n",
      "See the caveats in the documentation: https://pandas.pydata.org/pandas-docs/stable/user_guide/indexing.html#returning-a-view-versus-a-copy\n",
      "  df['index'][loc] = df['index'][loc].replace(' (loss)', '')\n",
      "C:\\Users\\Tutrie\\Downloads\\CMSC435\\Homeworks\\TeamProject\\report_generator\\utils\\report_cleaner\\cleaner.py:22: SettingWithCopyWarning: \n",
      "A value is trying to be set on a copy of a slice from a DataFrame\n",
      "\n",
      "See the caveats in the documentation: https://pandas.pydata.org/pandas-docs/stable/user_guide/indexing.html#returning-a-view-versus-a-copy\n",
      "  df['index'][loc] = df['index'][loc].replace(' (gain)', '')\n",
      "C:\\Users\\Tutrie\\Downloads\\CMSC435\\Homeworks\\TeamProject\\report_generator\\utils\\report_cleaner\\cleaner.py:23: SettingWithCopyWarning: \n",
      "A value is trying to be set on a copy of a slice from a DataFrame\n",
      "\n",
      "See the caveats in the documentation: https://pandas.pydata.org/pandas-docs/stable/user_guide/indexing.html#returning-a-view-versus-a-copy\n",
      "  df['index'][loc] = df['index'][loc].replace(' (benefit)', '')\n"
     ]
    }
   ],
   "source": [
    "test = ConvertCleanSave(file_path1)\n",
    "test1 = ConvertCleanSave(file_path2)"
   ],
   "metadata": {
    "collapsed": false,
    "pycharm": {
     "name": "#%%\n"
    }
   }
  },
  {
   "cell_type": "code",
   "execution_count": 8,
   "outputs": [],
   "source": [
    "df1 = list(test.pandas_dict.values())[0]\n",
    "df2 = list(test1.pandas_dict.values())[0]"
   ],
   "metadata": {
    "collapsed": false,
    "pycharm": {
     "name": "#%%\n"
    }
   }
  },
  {
   "cell_type": "code",
   "source": [
    "#pd.concat([df1, df2], axis=1)"
   ],
   "metadata": {
    "collapsed": false,
    "pycharm": {
     "name": "#%%\n"
    }
   },
   "execution_count": 4,
   "outputs": []
  },
  {
   "cell_type": "code",
   "execution_count": 5,
   "outputs": [],
   "source": [
    "df1 = test.pandas_dict['Consolidated Statements of Cash Flows']\n",
    "df2 = test1.pandas_dict['Consolidated Statements of Cash Flows']"
   ],
   "metadata": {
    "collapsed": false,
    "pycharm": {
     "name": "#%%\n"
    }
   }
  },
  {
   "cell_type": "code",
   "execution_count": 6,
   "outputs": [],
   "source": [
    "#pd.concat([df1, df2], axis=1)\n",
    "\n",
    "#df2.index[0] = 'test'"
   ],
   "metadata": {
    "collapsed": false,
    "pycharm": {
     "name": "#%%\n"
    }
   }
  },
  {
   "cell_type": "code",
   "execution_count": 9,
   "outputs": [
    {
     "data": {
      "text/plain": "Nov. 30, 2019 - 12 Months Ended            NaN\nJan. 18, 2020                              NaN\nJun. 01, 2019                      162765082.0\nName: Entity Public Float, dtype: object"
     },
     "execution_count": 9,
     "metadata": {},
     "output_type": "execute_result"
    }
   ],
   "source": [
    "df1.T['Entity Public Float']"
   ],
   "metadata": {
    "collapsed": false,
    "pycharm": {
     "name": "#%%\n"
    }
   }
  },
  {
   "cell_type": "code",
   "execution_count": 12,
   "outputs": [],
   "source": [
    "df1 = df1.T\n",
    "df1['Entity Public Float'] = df1['Entity Public Float']/1000\n",
    "df1 = df1.T"
   ],
   "metadata": {
    "collapsed": false,
    "pycharm": {
     "name": "#%%\n"
    }
   }
  },
  {
   "cell_type": "code",
   "execution_count": 13,
   "outputs": [
    {
     "data": {
      "text/plain": "                                               Nov. 30, 2019 - 12 Months Ended  \\\nindex                                                                            \nDocument Information [Line Items] - CATEGORY                               NaN   \nEntity Central Index Key                                            0000010329   \nEntity Registrant Name                        BASSETT FURNITURE INDUSTRIES INC   \nAmendment Flag                                                           false   \nCurrent Fiscal Year End Date                                           --11-30   \nDocument Fiscal Period Focus                                                FY   \nDocument Fiscal Year Focus                                                2019   \nDocument Type                                                             10-K   \nDocument Annual Report                                                    true   \nDocument Period End Date                                    Nov. 30,\\n\\t\\t2019   \nDocument Transition Report                                               false   \nEntity File Number                                                   000-00209   \nEntity Incorporation, State or Country Code                                 VA   \nEntity Tax Identification Number                                    54-0135270   \nEntity Address, Address Line One                  3525 Fairystone Park Highway   \nEntity Address, City or Town                                           Bassett   \nEntity Address, State or Province                                           VA   \nEntity Address, Postal Zip Code                                          24055   \nCity Area Code                                                             276   \nLocal Phone Number                                                    629-6000   \nTitle of 12(b) Security                         Common Stock ($5.00 par value)   \nTrading Symbol                                                            BSET   \nSecurity Exchange Name                                                  NASDAQ   \nEntity Well-known Seasoned Issuer                                           No   \nEntity Voluntary Filers                                                     No   \nEntity Current Reporting Status                                            Yes   \nEntity Interactive Data Current                                            Yes   \nEntity Filer Category                                        Accelerated Filer   \nEntity Small Business                                                    false   \nEntity Emerging Growth Company                                           false   \nEntity Shell Company                                                     false   \nEntity Public Float                                                        NaN   \nEntity Common Stock, Shares Outstanding                                    NaN   \n\n                                             Jan. 18, 2020 Jun. 01, 2019  \nindex                                                                     \nDocument Information [Line Items] - CATEGORY           NaN           NaN  \nEntity Central Index Key                               NaN           NaN  \nEntity Registrant Name                                 NaN           NaN  \nAmendment Flag                                         NaN           NaN  \nCurrent Fiscal Year End Date                           NaN           NaN  \nDocument Fiscal Period Focus                           NaN           NaN  \nDocument Fiscal Year Focus                             NaN           NaN  \nDocument Type                                          NaN           NaN  \nDocument Annual Report                                 NaN           NaN  \nDocument Period End Date                               NaN           NaN  \nDocument Transition Report                             NaN           NaN  \nEntity File Number                                     NaN           NaN  \nEntity Incorporation, State or Country Code            NaN           NaN  \nEntity Tax Identification Number                       NaN           NaN  \nEntity Address, Address Line One                       NaN           NaN  \nEntity Address, City or Town                           NaN           NaN  \nEntity Address, State or Province                      NaN           NaN  \nEntity Address, Postal Zip Code                        NaN           NaN  \nCity Area Code                                         NaN           NaN  \nLocal Phone Number                                     NaN           NaN  \nTitle of 12(b) Security                                NaN           NaN  \nTrading Symbol                                         NaN           NaN  \nSecurity Exchange Name                                 NaN           NaN  \nEntity Well-known Seasoned Issuer                      NaN           NaN  \nEntity Voluntary Filers                                NaN           NaN  \nEntity Current Reporting Status                        NaN           NaN  \nEntity Interactive Data Current                        NaN           NaN  \nEntity Filer Category                                  NaN           NaN  \nEntity Small Business                                  NaN           NaN  \nEntity Emerging Growth Company                         NaN           NaN  \nEntity Shell Company                                   NaN           NaN  \nEntity Public Float                                    NaN    162765.082  \nEntity Common Stock, Shares Outstanding         10116625.0           NaN  ",
      "text/html": "<div>\n<style scoped>\n    .dataframe tbody tr th:only-of-type {\n        vertical-align: middle;\n    }\n\n    .dataframe tbody tr th {\n        vertical-align: top;\n    }\n\n    .dataframe thead th {\n        text-align: right;\n    }\n</style>\n<table border=\"1\" class=\"dataframe\">\n  <thead>\n    <tr style=\"text-align: right;\">\n      <th></th>\n      <th>Nov. 30, 2019 - 12 Months Ended</th>\n      <th>Jan. 18, 2020</th>\n      <th>Jun. 01, 2019</th>\n    </tr>\n    <tr>\n      <th>index</th>\n      <th></th>\n      <th></th>\n      <th></th>\n    </tr>\n  </thead>\n  <tbody>\n    <tr>\n      <th>Document Information [Line Items] - CATEGORY</th>\n      <td>NaN</td>\n      <td>NaN</td>\n      <td>NaN</td>\n    </tr>\n    <tr>\n      <th>Entity Central Index Key</th>\n      <td>0000010329</td>\n      <td>NaN</td>\n      <td>NaN</td>\n    </tr>\n    <tr>\n      <th>Entity Registrant Name</th>\n      <td>BASSETT FURNITURE INDUSTRIES INC</td>\n      <td>NaN</td>\n      <td>NaN</td>\n    </tr>\n    <tr>\n      <th>Amendment Flag</th>\n      <td>false</td>\n      <td>NaN</td>\n      <td>NaN</td>\n    </tr>\n    <tr>\n      <th>Current Fiscal Year End Date</th>\n      <td>--11-30</td>\n      <td>NaN</td>\n      <td>NaN</td>\n    </tr>\n    <tr>\n      <th>Document Fiscal Period Focus</th>\n      <td>FY</td>\n      <td>NaN</td>\n      <td>NaN</td>\n    </tr>\n    <tr>\n      <th>Document Fiscal Year Focus</th>\n      <td>2019</td>\n      <td>NaN</td>\n      <td>NaN</td>\n    </tr>\n    <tr>\n      <th>Document Type</th>\n      <td>10-K</td>\n      <td>NaN</td>\n      <td>NaN</td>\n    </tr>\n    <tr>\n      <th>Document Annual Report</th>\n      <td>true</td>\n      <td>NaN</td>\n      <td>NaN</td>\n    </tr>\n    <tr>\n      <th>Document Period End Date</th>\n      <td>Nov. 30,\\n\\t\\t2019</td>\n      <td>NaN</td>\n      <td>NaN</td>\n    </tr>\n    <tr>\n      <th>Document Transition Report</th>\n      <td>false</td>\n      <td>NaN</td>\n      <td>NaN</td>\n    </tr>\n    <tr>\n      <th>Entity File Number</th>\n      <td>000-00209</td>\n      <td>NaN</td>\n      <td>NaN</td>\n    </tr>\n    <tr>\n      <th>Entity Incorporation, State or Country Code</th>\n      <td>VA</td>\n      <td>NaN</td>\n      <td>NaN</td>\n    </tr>\n    <tr>\n      <th>Entity Tax Identification Number</th>\n      <td>54-0135270</td>\n      <td>NaN</td>\n      <td>NaN</td>\n    </tr>\n    <tr>\n      <th>Entity Address, Address Line One</th>\n      <td>3525 Fairystone Park Highway</td>\n      <td>NaN</td>\n      <td>NaN</td>\n    </tr>\n    <tr>\n      <th>Entity Address, City or Town</th>\n      <td>Bassett</td>\n      <td>NaN</td>\n      <td>NaN</td>\n    </tr>\n    <tr>\n      <th>Entity Address, State or Province</th>\n      <td>VA</td>\n      <td>NaN</td>\n      <td>NaN</td>\n    </tr>\n    <tr>\n      <th>Entity Address, Postal Zip Code</th>\n      <td>24055</td>\n      <td>NaN</td>\n      <td>NaN</td>\n    </tr>\n    <tr>\n      <th>City Area Code</th>\n      <td>276</td>\n      <td>NaN</td>\n      <td>NaN</td>\n    </tr>\n    <tr>\n      <th>Local Phone Number</th>\n      <td>629-6000</td>\n      <td>NaN</td>\n      <td>NaN</td>\n    </tr>\n    <tr>\n      <th>Title of 12(b) Security</th>\n      <td>Common Stock ($5.00 par value)</td>\n      <td>NaN</td>\n      <td>NaN</td>\n    </tr>\n    <tr>\n      <th>Trading Symbol</th>\n      <td>BSET</td>\n      <td>NaN</td>\n      <td>NaN</td>\n    </tr>\n    <tr>\n      <th>Security Exchange Name</th>\n      <td>NASDAQ</td>\n      <td>NaN</td>\n      <td>NaN</td>\n    </tr>\n    <tr>\n      <th>Entity Well-known Seasoned Issuer</th>\n      <td>No</td>\n      <td>NaN</td>\n      <td>NaN</td>\n    </tr>\n    <tr>\n      <th>Entity Voluntary Filers</th>\n      <td>No</td>\n      <td>NaN</td>\n      <td>NaN</td>\n    </tr>\n    <tr>\n      <th>Entity Current Reporting Status</th>\n      <td>Yes</td>\n      <td>NaN</td>\n      <td>NaN</td>\n    </tr>\n    <tr>\n      <th>Entity Interactive Data Current</th>\n      <td>Yes</td>\n      <td>NaN</td>\n      <td>NaN</td>\n    </tr>\n    <tr>\n      <th>Entity Filer Category</th>\n      <td>Accelerated Filer</td>\n      <td>NaN</td>\n      <td>NaN</td>\n    </tr>\n    <tr>\n      <th>Entity Small Business</th>\n      <td>false</td>\n      <td>NaN</td>\n      <td>NaN</td>\n    </tr>\n    <tr>\n      <th>Entity Emerging Growth Company</th>\n      <td>false</td>\n      <td>NaN</td>\n      <td>NaN</td>\n    </tr>\n    <tr>\n      <th>Entity Shell Company</th>\n      <td>false</td>\n      <td>NaN</td>\n      <td>NaN</td>\n    </tr>\n    <tr>\n      <th>Entity Public Float</th>\n      <td>NaN</td>\n      <td>NaN</td>\n      <td>162765.082</td>\n    </tr>\n    <tr>\n      <th>Entity Common Stock, Shares Outstanding</th>\n      <td>NaN</td>\n      <td>10116625.0</td>\n      <td>NaN</td>\n    </tr>\n  </tbody>\n</table>\n</div>"
     },
     "execution_count": 13,
     "metadata": {},
     "output_type": "execute_result"
    }
   ],
   "source": [
    "df1"
   ],
   "metadata": {
    "collapsed": false,
    "pycharm": {
     "name": "#%%\n"
    }
   }
  }
 ],
 "metadata": {
  "kernelspec": {
   "name": "pycharm-3e182fa1",
   "language": "python",
   "display_name": "PyCharm (TeamProject)"
  },
  "language_info": {
   "codemirror_mode": {
    "name": "ipython",
    "version": 2
   },
   "file_extension": ".py",
   "mimetype": "text/x-python",
   "name": "python",
   "nbconvert_exporter": "python",
   "pygments_lexer": "ipython2",
   "version": "2.7.6"
  }
 },
 "nbformat": 4,
 "nbformat_minor": 0
}