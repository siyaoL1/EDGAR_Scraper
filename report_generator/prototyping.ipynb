{
 "cells": [
  {
   "cell_type": "code",
   "execution_count": 1,
   "metadata": {
    "collapsed": true
   },
   "outputs": [],
   "source": [
    "#from utils.report_cleaner import excelcleaner\n",
    "from report_generator.utils.report_cleaner.excelToPandasToJson import ConvertCleanSave\n",
    "import utils\n",
    "import pandas as pd\n",
    "from report_generator.utils.convert_objects.object_conversions import *\n",
    "\n",
    "file_path1 = \"./mocks/excel_reports/10-K-19.xlsx\"\n",
    "file_path2 = \"./mocks/excel_reports/10-K-20.xlsx\""
   ]
  },
  {
   "cell_type": "code",
   "execution_count": 2,
   "outputs": [
    {
     "name": "stderr",
     "output_type": "stream",
     "text": [
      "C:\\Users\\Tutrie\\anaconda3\\envs\\CMSC435\\lib\\site-packages\\openpyxl\\workbook\\child.py:99: UserWarning: Title is more than 31 characters. Some applications may not be able to read the file\n",
      "  warnings.warn(\"Title is more than 31 characters. Some applications may not be able to read the file\")\n"
     ]
    }
   ],
   "source": [
    "test = ConvertCleanSave(file_path1)\n",
    "test1 = ConvertCleanSave(file_path2)"
   ],
   "metadata": {
    "collapsed": false,
    "pycharm": {
     "name": "#%%\n"
    }
   }
  },
  {
   "cell_type": "code",
   "execution_count": 3,
   "outputs": [],
   "source": [
    "df1 = list(test.pandas_dict.values())[0]\n",
    "df2 = list(test1.pandas_dict.values())[2]"
   ],
   "metadata": {
    "collapsed": false,
    "pycharm": {
     "name": "#%%\n"
    }
   }
  },
  {
   "cell_type": "code",
   "source": [
    "#pd.concat([df1, df2], axis=1)"
   ],
   "metadata": {
    "collapsed": false,
    "pycharm": {
     "name": "#%%\n"
    }
   },
   "execution_count": 4,
   "outputs": []
  },
  {
   "cell_type": "code",
   "execution_count": 5,
   "outputs": [],
   "source": [
    "df1 = test.pandas_dict['Consolidated Statements of Cash Flows']\n",
    "df2 = test1.pandas_dict['Consolidated Statements of Cash Flows']"
   ],
   "metadata": {
    "collapsed": false,
    "pycharm": {
     "name": "#%%\n"
    }
   }
  },
  {
   "cell_type": "code",
   "execution_count": 6,
   "outputs": [],
   "source": [
    "#pd.concat([df1, df2], axis=1)\n",
    "\n",
    "#df2.index[0] = 'test'"
   ],
   "metadata": {
    "collapsed": false,
    "pycharm": {
     "name": "#%%\n"
    }
   }
  },
  {
   "cell_type": "code",
   "execution_count": 7,
   "outputs": [],
   "source": [
    "#df2"
   ],
   "metadata": {
    "collapsed": false,
    "pycharm": {
     "name": "#%%\n"
    }
   }
  },
  {
   "cell_type": "code",
   "execution_count": 8,
   "outputs": [],
   "source": [
    "#df1 = df1.T\n",
    "#df1['Entity Public Float'] = df1['Entity Public Float']/1000\n",
    "#df1 = df1.T"
   ],
   "metadata": {
    "collapsed": false,
    "pycharm": {
     "name": "#%%\n"
    }
   }
  },
  {
   "cell_type": "code",
   "execution_count": 9,
   "outputs": [],
   "source": [
    "test_json = test.convert_to_json()"
   ],
   "metadata": {
    "collapsed": false,
    "pycharm": {
     "name": "#%%\n"
    }
   }
  },
  {
   "cell_type": "code",
   "execution_count": 10,
   "outputs": [
    {
     "data": {
      "text/plain": "                                                                                           2019-11-30  \\\nCurrent assets - CATEGORY                                                                        None   \nCash and cash equivalents                                                                    19687000   \nShort-term investments                                                                       17436000   \nAccounts receivable, net of allowance for doubt...                                           21378000   \nInventories                                                                                  66302000   \nOther current assets                                                                         11983000   \nTotal current assets                                                                        136786000   \nProperty and equipment, net                                                                 101724000   \nOther long-term assets - CATEGORY                                                                None   \nDeferred income taxes, net                                                                    5744000   \nGoodwill and other intangible assets                                                         26176000   \nOther                                                                                         5336000   \nTotal other long-term assets                                                                 37256000   \nTotal assets                                                                                275766000   \nCurrent liabilities - CATEGORY                                                                   None   \nAccounts payable                                                                             23677000   \nAccrued compensation and benefits                                                            11308000   \nCustomer deposits                                                                            25341000   \nOther accrued liabilities                                                                    11945000   \nTotal current liabilities                                                                    72271000   \nLong-term liabilities - CATEGORY                                                                 None   \nPost employment benefit obligations                                                          11830000   \nOther long-term liabilities                                                                  12995000   \nTotal long-term liabilities                                                                  24825000   \nCommitments and Contingencies                                                                     ...   \nStockholders’ equity - CATEGORY                                                                  None   \nCommon stock, $5 par value; 50,000,000 shares a...                                           50581000   \nRetained earnings                                                                           129130000   \nAdditional paid-in-capital                                                                     195000   \nAccumulated other comprehensive loss                                                         -1236000   \nTotal stockholders' equity                                                                  178670000   \nTotal liabilities and stockholders’ equity                                                  275766000   \n\n                                                                                           2018-11-24  \nCurrent assets - CATEGORY                                                                        None  \nCash and cash equivalents                                                                    33468000  \nShort-term investments                                                                       22643000  \nAccounts receivable, net of allowance for doubt...                                           19055000  \nInventories                                                                                  64192000  \nOther current assets                                                                          9189000  \nTotal current assets                                                                        148547000  \nProperty and equipment, net                                                                 104863000  \nOther long-term assets - CATEGORY                                                                None  \nDeferred income taxes, net                                                                    3266000  \nGoodwill and other intangible assets                                                         28480000  \nOther                                                                                         6485000  \nTotal other long-term assets                                                                 38231000  \nTotal assets                                                                                291641000  \nCurrent liabilities - CATEGORY                                                                   None  \nAccounts payable                                                                             27407000  \nAccrued compensation and benefits                                                            12994000  \nCustomer deposits                                                                            27157000  \nOther accrued liabilities                                                                    14261000  \nTotal current liabilities                                                                    81819000  \nLong-term liabilities - CATEGORY                                                                 None  \nPost employment benefit obligations                                                          13173000  \nOther long-term liabilities                                                                   6340000  \nTotal long-term liabilities                                                                  19513000  \nCommitments and Contingencies                                                                     ...  \nStockholders’ equity - CATEGORY                                                                  None  \nCommon stock, $5 par value; 50,000,000 shares a...                                           52638000  \nRetained earnings                                                                           140009000  \nAdditional paid-in-capital                                                                          0  \nAccumulated other comprehensive loss                                                         -2338000  \nTotal stockholders' equity                                                                  190309000  \nTotal liabilities and stockholders’ equity                                                  291641000  ",
      "text/html": "<div>\n<style scoped>\n    .dataframe tbody tr th:only-of-type {\n        vertical-align: middle;\n    }\n\n    .dataframe tbody tr th {\n        vertical-align: top;\n    }\n\n    .dataframe thead th {\n        text-align: right;\n    }\n</style>\n<table border=\"1\" class=\"dataframe\">\n  <thead>\n    <tr style=\"text-align: right;\">\n      <th></th>\n      <th>2019-11-30</th>\n      <th>2018-11-24</th>\n    </tr>\n  </thead>\n  <tbody>\n    <tr>\n      <th>Current assets - CATEGORY</th>\n      <td>None</td>\n      <td>None</td>\n    </tr>\n    <tr>\n      <th>Cash and cash equivalents</th>\n      <td>19687000</td>\n      <td>33468000</td>\n    </tr>\n    <tr>\n      <th>Short-term investments</th>\n      <td>17436000</td>\n      <td>22643000</td>\n    </tr>\n    <tr>\n      <th>Accounts receivable, net of allowance for doubtful accounts of $815 and $754 as of November 30, 2019 and November 24, 2018, respectively</th>\n      <td>21378000</td>\n      <td>19055000</td>\n    </tr>\n    <tr>\n      <th>Inventories</th>\n      <td>66302000</td>\n      <td>64192000</td>\n    </tr>\n    <tr>\n      <th>Other current assets</th>\n      <td>11983000</td>\n      <td>9189000</td>\n    </tr>\n    <tr>\n      <th>Total current assets</th>\n      <td>136786000</td>\n      <td>148547000</td>\n    </tr>\n    <tr>\n      <th>Property and equipment, net</th>\n      <td>101724000</td>\n      <td>104863000</td>\n    </tr>\n    <tr>\n      <th>Other long-term assets - CATEGORY</th>\n      <td>None</td>\n      <td>None</td>\n    </tr>\n    <tr>\n      <th>Deferred income taxes, net</th>\n      <td>5744000</td>\n      <td>3266000</td>\n    </tr>\n    <tr>\n      <th>Goodwill and other intangible assets</th>\n      <td>26176000</td>\n      <td>28480000</td>\n    </tr>\n    <tr>\n      <th>Other</th>\n      <td>5336000</td>\n      <td>6485000</td>\n    </tr>\n    <tr>\n      <th>Total other long-term assets</th>\n      <td>37256000</td>\n      <td>38231000</td>\n    </tr>\n    <tr>\n      <th>Total assets</th>\n      <td>275766000</td>\n      <td>291641000</td>\n    </tr>\n    <tr>\n      <th>Current liabilities - CATEGORY</th>\n      <td>None</td>\n      <td>None</td>\n    </tr>\n    <tr>\n      <th>Accounts payable</th>\n      <td>23677000</td>\n      <td>27407000</td>\n    </tr>\n    <tr>\n      <th>Accrued compensation and benefits</th>\n      <td>11308000</td>\n      <td>12994000</td>\n    </tr>\n    <tr>\n      <th>Customer deposits</th>\n      <td>25341000</td>\n      <td>27157000</td>\n    </tr>\n    <tr>\n      <th>Other accrued liabilities</th>\n      <td>11945000</td>\n      <td>14261000</td>\n    </tr>\n    <tr>\n      <th>Total current liabilities</th>\n      <td>72271000</td>\n      <td>81819000</td>\n    </tr>\n    <tr>\n      <th>Long-term liabilities - CATEGORY</th>\n      <td>None</td>\n      <td>None</td>\n    </tr>\n    <tr>\n      <th>Post employment benefit obligations</th>\n      <td>11830000</td>\n      <td>13173000</td>\n    </tr>\n    <tr>\n      <th>Other long-term liabilities</th>\n      <td>12995000</td>\n      <td>6340000</td>\n    </tr>\n    <tr>\n      <th>Total long-term liabilities</th>\n      <td>24825000</td>\n      <td>19513000</td>\n    </tr>\n    <tr>\n      <th>Commitments and Contingencies</th>\n      <td>...</td>\n      <td>...</td>\n    </tr>\n    <tr>\n      <th>Stockholders’ equity - CATEGORY</th>\n      <td>None</td>\n      <td>None</td>\n    </tr>\n    <tr>\n      <th>Common stock, $5 par value; 50,000,000 shares authorized; issued and outstanding 10,116,290 at November 30, 2019 and 10,527,636 at November 24, 2018</th>\n      <td>50581000</td>\n      <td>52638000</td>\n    </tr>\n    <tr>\n      <th>Retained earnings</th>\n      <td>129130000</td>\n      <td>140009000</td>\n    </tr>\n    <tr>\n      <th>Additional paid-in-capital</th>\n      <td>195000</td>\n      <td>0</td>\n    </tr>\n    <tr>\n      <th>Accumulated other comprehensive loss</th>\n      <td>-1236000</td>\n      <td>-2338000</td>\n    </tr>\n    <tr>\n      <th>Total stockholders' equity</th>\n      <td>178670000</td>\n      <td>190309000</td>\n    </tr>\n    <tr>\n      <th>Total liabilities and stockholders’ equity</th>\n      <td>275766000</td>\n      <td>291641000</td>\n    </tr>\n  </tbody>\n</table>\n</div>"
     },
     "execution_count": 10,
     "metadata": {},
     "output_type": "execute_result"
    }
   ],
   "source": [
    "test_conversion = json_dict_to_dataframes_dict(test_json)\n",
    "test_conversion['Consolidated Balance Sheets']"
   ],
   "metadata": {
    "collapsed": false,
    "pycharm": {
     "name": "#%%\n"
    }
   }
  },
  {
   "cell_type": "code",
   "execution_count": 11,
   "outputs": [
    {
     "data": {
      "text/plain": "                                                                                        Nov. 30, 2019  \\\nindex                                                                                                   \nCurrent assets - CATEGORY                                                                         NaN   \nCash and cash equivalents                                                                    19687000   \nShort-term investments                                                                       17436000   \nAccounts receivable, net of allowance for doubt...                                           21378000   \nInventories                                                                                  66302000   \nOther current assets                                                                         11983000   \nTotal current assets                                                                        136786000   \nProperty and equipment, net                                                                 101724000   \nOther long-term assets - CATEGORY                                                                 NaN   \nDeferred income taxes, net                                                                    5744000   \nGoodwill and other intangible assets                                                         26176000   \nOther                                                                                         5336000   \nTotal other long-term assets                                                                 37256000   \nTotal assets                                                                                275766000   \nCurrent liabilities - CATEGORY                                                                    NaN   \nAccounts payable                                                                             23677000   \nAccrued compensation and benefits                                                            11308000   \nCustomer deposits                                                                            25341000   \nOther accrued liabilities                                                                    11945000   \nTotal current liabilities                                                                    72271000   \nLong-term liabilities - CATEGORY                                                                  NaN   \nPost employment benefit obligations                                                          11830000   \nOther long-term liabilities                                                                  12995000   \nTotal long-term liabilities                                                                  24825000   \nCommitments and Contingencies                                                                     ...   \nStockholders’ equity - CATEGORY                                                                   NaN   \nCommon stock, $5 par value; 50,000,000 shares a...                                           50581000   \nRetained earnings                                                                           129130000   \nAdditional paid-in-capital                                                                     195000   \nAccumulated other comprehensive loss                                                         -1236000   \nTotal stockholders' equity                                                                  178670000   \nTotal liabilities and stockholders’ equity                                                  275766000   \n\n                                                                                        Nov. 24, 2018  \nindex                                                                                                  \nCurrent assets - CATEGORY                                                                         NaN  \nCash and cash equivalents                                                                    33468000  \nShort-term investments                                                                       22643000  \nAccounts receivable, net of allowance for doubt...                                           19055000  \nInventories                                                                                  64192000  \nOther current assets                                                                          9189000  \nTotal current assets                                                                        148547000  \nProperty and equipment, net                                                                 104863000  \nOther long-term assets - CATEGORY                                                                 NaN  \nDeferred income taxes, net                                                                    3266000  \nGoodwill and other intangible assets                                                         28480000  \nOther                                                                                         6485000  \nTotal other long-term assets                                                                 38231000  \nTotal assets                                                                                291641000  \nCurrent liabilities - CATEGORY                                                                    NaN  \nAccounts payable                                                                             27407000  \nAccrued compensation and benefits                                                            12994000  \nCustomer deposits                                                                            27157000  \nOther accrued liabilities                                                                    14261000  \nTotal current liabilities                                                                    81819000  \nLong-term liabilities - CATEGORY                                                                  NaN  \nPost employment benefit obligations                                                          13173000  \nOther long-term liabilities                                                                   6340000  \nTotal long-term liabilities                                                                  19513000  \nCommitments and Contingencies                                                                     ...  \nStockholders’ equity - CATEGORY                                                                   NaN  \nCommon stock, $5 par value; 50,000,000 shares a...                                           52638000  \nRetained earnings                                                                           140009000  \nAdditional paid-in-capital                                                                          0  \nAccumulated other comprehensive loss                                                         -2338000  \nTotal stockholders' equity                                                                  190309000  \nTotal liabilities and stockholders’ equity                                                  291641000  ",
      "text/html": "<div>\n<style scoped>\n    .dataframe tbody tr th:only-of-type {\n        vertical-align: middle;\n    }\n\n    .dataframe tbody tr th {\n        vertical-align: top;\n    }\n\n    .dataframe thead th {\n        text-align: right;\n    }\n</style>\n<table border=\"1\" class=\"dataframe\">\n  <thead>\n    <tr style=\"text-align: right;\">\n      <th></th>\n      <th>Nov. 30, 2019</th>\n      <th>Nov. 24, 2018</th>\n    </tr>\n    <tr>\n      <th>index</th>\n      <th></th>\n      <th></th>\n    </tr>\n  </thead>\n  <tbody>\n    <tr>\n      <th>Current assets - CATEGORY</th>\n      <td>NaN</td>\n      <td>NaN</td>\n    </tr>\n    <tr>\n      <th>Cash and cash equivalents</th>\n      <td>19687000</td>\n      <td>33468000</td>\n    </tr>\n    <tr>\n      <th>Short-term investments</th>\n      <td>17436000</td>\n      <td>22643000</td>\n    </tr>\n    <tr>\n      <th>Accounts receivable, net of allowance for doubtful accounts of $815 and $754 as of November 30, 2019 and November 24, 2018, respectively</th>\n      <td>21378000</td>\n      <td>19055000</td>\n    </tr>\n    <tr>\n      <th>Inventories</th>\n      <td>66302000</td>\n      <td>64192000</td>\n    </tr>\n    <tr>\n      <th>Other current assets</th>\n      <td>11983000</td>\n      <td>9189000</td>\n    </tr>\n    <tr>\n      <th>Total current assets</th>\n      <td>136786000</td>\n      <td>148547000</td>\n    </tr>\n    <tr>\n      <th>Property and equipment, net</th>\n      <td>101724000</td>\n      <td>104863000</td>\n    </tr>\n    <tr>\n      <th>Other long-term assets - CATEGORY</th>\n      <td>NaN</td>\n      <td>NaN</td>\n    </tr>\n    <tr>\n      <th>Deferred income taxes, net</th>\n      <td>5744000</td>\n      <td>3266000</td>\n    </tr>\n    <tr>\n      <th>Goodwill and other intangible assets</th>\n      <td>26176000</td>\n      <td>28480000</td>\n    </tr>\n    <tr>\n      <th>Other</th>\n      <td>5336000</td>\n      <td>6485000</td>\n    </tr>\n    <tr>\n      <th>Total other long-term assets</th>\n      <td>37256000</td>\n      <td>38231000</td>\n    </tr>\n    <tr>\n      <th>Total assets</th>\n      <td>275766000</td>\n      <td>291641000</td>\n    </tr>\n    <tr>\n      <th>Current liabilities - CATEGORY</th>\n      <td>NaN</td>\n      <td>NaN</td>\n    </tr>\n    <tr>\n      <th>Accounts payable</th>\n      <td>23677000</td>\n      <td>27407000</td>\n    </tr>\n    <tr>\n      <th>Accrued compensation and benefits</th>\n      <td>11308000</td>\n      <td>12994000</td>\n    </tr>\n    <tr>\n      <th>Customer deposits</th>\n      <td>25341000</td>\n      <td>27157000</td>\n    </tr>\n    <tr>\n      <th>Other accrued liabilities</th>\n      <td>11945000</td>\n      <td>14261000</td>\n    </tr>\n    <tr>\n      <th>Total current liabilities</th>\n      <td>72271000</td>\n      <td>81819000</td>\n    </tr>\n    <tr>\n      <th>Long-term liabilities - CATEGORY</th>\n      <td>NaN</td>\n      <td>NaN</td>\n    </tr>\n    <tr>\n      <th>Post employment benefit obligations</th>\n      <td>11830000</td>\n      <td>13173000</td>\n    </tr>\n    <tr>\n      <th>Other long-term liabilities</th>\n      <td>12995000</td>\n      <td>6340000</td>\n    </tr>\n    <tr>\n      <th>Total long-term liabilities</th>\n      <td>24825000</td>\n      <td>19513000</td>\n    </tr>\n    <tr>\n      <th>Commitments and Contingencies</th>\n      <td>...</td>\n      <td>...</td>\n    </tr>\n    <tr>\n      <th>Stockholders’ equity - CATEGORY</th>\n      <td>NaN</td>\n      <td>NaN</td>\n    </tr>\n    <tr>\n      <th>Common stock, $5 par value; 50,000,000 shares authorized; issued and outstanding 10,116,290 at November 30, 2019 and 10,527,636 at November 24, 2018</th>\n      <td>50581000</td>\n      <td>52638000</td>\n    </tr>\n    <tr>\n      <th>Retained earnings</th>\n      <td>129130000</td>\n      <td>140009000</td>\n    </tr>\n    <tr>\n      <th>Additional paid-in-capital</th>\n      <td>195000</td>\n      <td>0</td>\n    </tr>\n    <tr>\n      <th>Accumulated other comprehensive loss</th>\n      <td>-1236000</td>\n      <td>-2338000</td>\n    </tr>\n    <tr>\n      <th>Total stockholders' equity</th>\n      <td>178670000</td>\n      <td>190309000</td>\n    </tr>\n    <tr>\n      <th>Total liabilities and stockholders’ equity</th>\n      <td>275766000</td>\n      <td>291641000</td>\n    </tr>\n  </tbody>\n</table>\n</div>"
     },
     "execution_count": 11,
     "metadata": {},
     "output_type": "execute_result"
    }
   ],
   "source": [
    "test.pandas_dict['Consolidated Balance Sheets']"
   ],
   "metadata": {
    "collapsed": false,
    "pycharm": {
     "name": "#%%\n"
    }
   }
  },
  {
   "cell_type": "code",
   "execution_count": 12,
   "outputs": [],
   "source": [
    "test_convert_back = json_dict_to_dataframes_dict(dataframes_dict_to_json_dict(test_conversion))"
   ],
   "metadata": {
    "collapsed": false,
    "pycharm": {
     "name": "#%%\n"
    }
   }
  },
  {
   "cell_type": "code",
   "execution_count": 13,
   "outputs": [
    {
     "data": {
      "text/plain": "                                                                                           2019-11-30  \\\nCurrent assets - CATEGORY                                                                        None   \nCash and cash equivalents                                                                    19687000   \nShort-term investments                                                                       17436000   \nAccounts receivable, net of allowance for doubt...                                           21378000   \nInventories                                                                                  66302000   \nOther current assets                                                                         11983000   \nTotal current assets                                                                        136786000   \nProperty and equipment, net                                                                 101724000   \nOther long-term assets - CATEGORY                                                                None   \nDeferred income taxes, net                                                                    5744000   \nGoodwill and other intangible assets                                                         26176000   \nOther                                                                                         5336000   \nTotal other long-term assets                                                                 37256000   \nTotal assets                                                                                275766000   \nCurrent liabilities - CATEGORY                                                                   None   \nAccounts payable                                                                             23677000   \nAccrued compensation and benefits                                                            11308000   \nCustomer deposits                                                                            25341000   \nOther accrued liabilities                                                                    11945000   \nTotal current liabilities                                                                    72271000   \nLong-term liabilities - CATEGORY                                                                 None   \nPost employment benefit obligations                                                          11830000   \nOther long-term liabilities                                                                  12995000   \nTotal long-term liabilities                                                                  24825000   \nCommitments and Contingencies                                                                     ...   \nStockholders’ equity - CATEGORY                                                                  None   \nCommon stock, $5 par value; 50,000,000 shares a...                                           50581000   \nRetained earnings                                                                           129130000   \nAdditional paid-in-capital                                                                     195000   \nAccumulated other comprehensive loss                                                         -1236000   \nTotal stockholders' equity                                                                  178670000   \nTotal liabilities and stockholders’ equity                                                  275766000   \n\n                                                                                           2018-11-24  \nCurrent assets - CATEGORY                                                                        None  \nCash and cash equivalents                                                                    33468000  \nShort-term investments                                                                       22643000  \nAccounts receivable, net of allowance for doubt...                                           19055000  \nInventories                                                                                  64192000  \nOther current assets                                                                          9189000  \nTotal current assets                                                                        148547000  \nProperty and equipment, net                                                                 104863000  \nOther long-term assets - CATEGORY                                                                None  \nDeferred income taxes, net                                                                    3266000  \nGoodwill and other intangible assets                                                         28480000  \nOther                                                                                         6485000  \nTotal other long-term assets                                                                 38231000  \nTotal assets                                                                                291641000  \nCurrent liabilities - CATEGORY                                                                   None  \nAccounts payable                                                                             27407000  \nAccrued compensation and benefits                                                            12994000  \nCustomer deposits                                                                            27157000  \nOther accrued liabilities                                                                    14261000  \nTotal current liabilities                                                                    81819000  \nLong-term liabilities - CATEGORY                                                                 None  \nPost employment benefit obligations                                                          13173000  \nOther long-term liabilities                                                                   6340000  \nTotal long-term liabilities                                                                  19513000  \nCommitments and Contingencies                                                                     ...  \nStockholders’ equity - CATEGORY                                                                  None  \nCommon stock, $5 par value; 50,000,000 shares a...                                           52638000  \nRetained earnings                                                                           140009000  \nAdditional paid-in-capital                                                                          0  \nAccumulated other comprehensive loss                                                         -2338000  \nTotal stockholders' equity                                                                  190309000  \nTotal liabilities and stockholders’ equity                                                  291641000  ",
      "text/html": "<div>\n<style scoped>\n    .dataframe tbody tr th:only-of-type {\n        vertical-align: middle;\n    }\n\n    .dataframe tbody tr th {\n        vertical-align: top;\n    }\n\n    .dataframe thead th {\n        text-align: right;\n    }\n</style>\n<table border=\"1\" class=\"dataframe\">\n  <thead>\n    <tr style=\"text-align: right;\">\n      <th></th>\n      <th>2019-11-30</th>\n      <th>2018-11-24</th>\n    </tr>\n  </thead>\n  <tbody>\n    <tr>\n      <th>Current assets - CATEGORY</th>\n      <td>None</td>\n      <td>None</td>\n    </tr>\n    <tr>\n      <th>Cash and cash equivalents</th>\n      <td>19687000</td>\n      <td>33468000</td>\n    </tr>\n    <tr>\n      <th>Short-term investments</th>\n      <td>17436000</td>\n      <td>22643000</td>\n    </tr>\n    <tr>\n      <th>Accounts receivable, net of allowance for doubtful accounts of $815 and $754 as of November 30, 2019 and November 24, 2018, respectively</th>\n      <td>21378000</td>\n      <td>19055000</td>\n    </tr>\n    <tr>\n      <th>Inventories</th>\n      <td>66302000</td>\n      <td>64192000</td>\n    </tr>\n    <tr>\n      <th>Other current assets</th>\n      <td>11983000</td>\n      <td>9189000</td>\n    </tr>\n    <tr>\n      <th>Total current assets</th>\n      <td>136786000</td>\n      <td>148547000</td>\n    </tr>\n    <tr>\n      <th>Property and equipment, net</th>\n      <td>101724000</td>\n      <td>104863000</td>\n    </tr>\n    <tr>\n      <th>Other long-term assets - CATEGORY</th>\n      <td>None</td>\n      <td>None</td>\n    </tr>\n    <tr>\n      <th>Deferred income taxes, net</th>\n      <td>5744000</td>\n      <td>3266000</td>\n    </tr>\n    <tr>\n      <th>Goodwill and other intangible assets</th>\n      <td>26176000</td>\n      <td>28480000</td>\n    </tr>\n    <tr>\n      <th>Other</th>\n      <td>5336000</td>\n      <td>6485000</td>\n    </tr>\n    <tr>\n      <th>Total other long-term assets</th>\n      <td>37256000</td>\n      <td>38231000</td>\n    </tr>\n    <tr>\n      <th>Total assets</th>\n      <td>275766000</td>\n      <td>291641000</td>\n    </tr>\n    <tr>\n      <th>Current liabilities - CATEGORY</th>\n      <td>None</td>\n      <td>None</td>\n    </tr>\n    <tr>\n      <th>Accounts payable</th>\n      <td>23677000</td>\n      <td>27407000</td>\n    </tr>\n    <tr>\n      <th>Accrued compensation and benefits</th>\n      <td>11308000</td>\n      <td>12994000</td>\n    </tr>\n    <tr>\n      <th>Customer deposits</th>\n      <td>25341000</td>\n      <td>27157000</td>\n    </tr>\n    <tr>\n      <th>Other accrued liabilities</th>\n      <td>11945000</td>\n      <td>14261000</td>\n    </tr>\n    <tr>\n      <th>Total current liabilities</th>\n      <td>72271000</td>\n      <td>81819000</td>\n    </tr>\n    <tr>\n      <th>Long-term liabilities - CATEGORY</th>\n      <td>None</td>\n      <td>None</td>\n    </tr>\n    <tr>\n      <th>Post employment benefit obligations</th>\n      <td>11830000</td>\n      <td>13173000</td>\n    </tr>\n    <tr>\n      <th>Other long-term liabilities</th>\n      <td>12995000</td>\n      <td>6340000</td>\n    </tr>\n    <tr>\n      <th>Total long-term liabilities</th>\n      <td>24825000</td>\n      <td>19513000</td>\n    </tr>\n    <tr>\n      <th>Commitments and Contingencies</th>\n      <td>...</td>\n      <td>...</td>\n    </tr>\n    <tr>\n      <th>Stockholders’ equity - CATEGORY</th>\n      <td>None</td>\n      <td>None</td>\n    </tr>\n    <tr>\n      <th>Common stock, $5 par value; 50,000,000 shares authorized; issued and outstanding 10,116,290 at November 30, 2019 and 10,527,636 at November 24, 2018</th>\n      <td>50581000</td>\n      <td>52638000</td>\n    </tr>\n    <tr>\n      <th>Retained earnings</th>\n      <td>129130000</td>\n      <td>140009000</td>\n    </tr>\n    <tr>\n      <th>Additional paid-in-capital</th>\n      <td>195000</td>\n      <td>0</td>\n    </tr>\n    <tr>\n      <th>Accumulated other comprehensive loss</th>\n      <td>-1236000</td>\n      <td>-2338000</td>\n    </tr>\n    <tr>\n      <th>Total stockholders' equity</th>\n      <td>178670000</td>\n      <td>190309000</td>\n    </tr>\n    <tr>\n      <th>Total liabilities and stockholders’ equity</th>\n      <td>275766000</td>\n      <td>291641000</td>\n    </tr>\n  </tbody>\n</table>\n</div>"
     },
     "execution_count": 13,
     "metadata": {},
     "output_type": "execute_result"
    }
   ],
   "source": [
    "test_convert_back['Consolidated Balance Sheets']"
   ],
   "metadata": {
    "collapsed": false,
    "pycharm": {
     "name": "#%%\n"
    }
   }
  }
 ],
 "metadata": {
  "kernelspec": {
   "name": "pycharm-3e182fa1",
   "language": "python",
   "display_name": "PyCharm (TeamProject)"
  },
  "language_info": {
   "codemirror_mode": {
    "name": "ipython",
    "version": 2
   },
   "file_extension": ".py",
   "mimetype": "text/x-python",
   "name": "python",
   "nbconvert_exporter": "python",
   "pygments_lexer": "ipython2",
   "version": "2.7.6"
  }
 },
 "nbformat": 4,
 "nbformat_minor": 0
}