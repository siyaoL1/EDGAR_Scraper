{
 "cells": [
  {
   "cell_type": "code",
   "execution_count": 1,
   "metadata": {
    "collapsed": true
   },
   "outputs": [],
   "source": [
    "#from utils.report_cleaner import excelcleaner\n",
    "from report_generator.utils.report_cleaner.excelToPandasToJson import ConvertCleanSave\n",
    "import utils\n",
    "import pandas as pd\n",
    "\n",
    "file_path1 = \"./mocks/excel_reports/10-K-19.xlsx\"\n",
    "file_path2 = \"./mocks/excel_reports/10-K-20.xlsx\""
   ]
  },
  {
   "cell_type": "code",
   "execution_count": 2,
   "outputs": [
    {
     "name": "stderr",
     "output_type": "stream",
     "text": [
      "C:\\Users\\Tutrie\\anaconda3\\envs\\CMSC435\\lib\\site-packages\\openpyxl\\workbook\\child.py:99: UserWarning: Title is more than 31 characters. Some applications may not be able to read the file\n",
      "  warnings.warn(\"Title is more than 31 characters. Some applications may not be able to read the file\")\n",
      "C:\\Users\\Tutrie\\Downloads\\CMSC435\\Homeworks\\TeamProject\\report_generator\\utils\\report_cleaner\\cleaner.py:21: SettingWithCopyWarning: \n",
      "A value is trying to be set on a copy of a slice from a DataFrame\n",
      "\n",
      "See the caveats in the documentation: https://pandas.pydata.org/pandas-docs/stable/user_guide/indexing.html#returning-a-view-versus-a-copy\n",
      "  df['index'][loc] = df['index'][loc].replace(' (loss)', '')\n",
      "C:\\Users\\Tutrie\\Downloads\\CMSC435\\Homeworks\\TeamProject\\report_generator\\utils\\report_cleaner\\cleaner.py:22: SettingWithCopyWarning: \n",
      "A value is trying to be set on a copy of a slice from a DataFrame\n",
      "\n",
      "See the caveats in the documentation: https://pandas.pydata.org/pandas-docs/stable/user_guide/indexing.html#returning-a-view-versus-a-copy\n",
      "  df['index'][loc] = df['index'][loc].replace(' (gain)', '')\n",
      "C:\\Users\\Tutrie\\Downloads\\CMSC435\\Homeworks\\TeamProject\\report_generator\\utils\\report_cleaner\\cleaner.py:23: SettingWithCopyWarning: \n",
      "A value is trying to be set on a copy of a slice from a DataFrame\n",
      "\n",
      "See the caveats in the documentation: https://pandas.pydata.org/pandas-docs/stable/user_guide/indexing.html#returning-a-view-versus-a-copy\n",
      "  df['index'][loc] = df['index'][loc].replace(' (benefit)', '')\n"
     ]
    }
   ],
   "source": [
    "test = ConvertCleanSave(file_path1)\n",
    "test1 = ConvertCleanSave(file_path2)"
   ],
   "metadata": {
    "collapsed": false,
    "pycharm": {
     "name": "#%%\n"
    }
   }
  },
  {
   "cell_type": "code",
   "execution_count": 10,
   "outputs": [],
   "source": [
    "df1 = list(test.pandas_dict.values())[0]\n",
    "df2 = list(test1.pandas_dict.values())[2]"
   ],
   "metadata": {
    "collapsed": false,
    "pycharm": {
     "name": "#%%\n"
    }
   }
  },
  {
   "cell_type": "code",
   "source": [
    "#pd.concat([df1, df2], axis=1)"
   ],
   "metadata": {
    "collapsed": false,
    "pycharm": {
     "name": "#%%\n"
    }
   },
   "execution_count": 4,
   "outputs": []
  },
  {
   "cell_type": "code",
   "execution_count": 5,
   "outputs": [],
   "source": [
    "df1 = test.pandas_dict['Consolidated Statements of Cash Flows']\n",
    "df2 = test1.pandas_dict['Consolidated Statements of Cash Flows']"
   ],
   "metadata": {
    "collapsed": false,
    "pycharm": {
     "name": "#%%\n"
    }
   }
  },
  {
   "cell_type": "code",
   "execution_count": 6,
   "outputs": [],
   "source": [
    "#pd.concat([df1, df2], axis=1)\n",
    "\n",
    "#df2.index[0] = 'test'"
   ],
   "metadata": {
    "collapsed": false,
    "pycharm": {
     "name": "#%%\n"
    }
   }
  },
  {
   "cell_type": "code",
   "execution_count": 11,
   "outputs": [
    {
     "data": {
      "text/plain": "                                                Nov. 28, 2020  Nov. 30, 2019\nindex                                                                       \nAllowance for doubtful                                1211000         815000\nCommon stock, par value (in dollars per share)              5              5\nCommon stock, authorized (in shares)                 50000000       50000000\nCommon stock, issued (in shares)                      9942787       10116290\nCommon stock, outstanding (in shares)                 9942787       10116290",
      "text/html": "<div>\n<style scoped>\n    .dataframe tbody tr th:only-of-type {\n        vertical-align: middle;\n    }\n\n    .dataframe tbody tr th {\n        vertical-align: top;\n    }\n\n    .dataframe thead th {\n        text-align: right;\n    }\n</style>\n<table border=\"1\" class=\"dataframe\">\n  <thead>\n    <tr style=\"text-align: right;\">\n      <th></th>\n      <th>Nov. 28, 2020</th>\n      <th>Nov. 30, 2019</th>\n    </tr>\n    <tr>\n      <th>index</th>\n      <th></th>\n      <th></th>\n    </tr>\n  </thead>\n  <tbody>\n    <tr>\n      <th>Allowance for doubtful</th>\n      <td>1211000</td>\n      <td>815000</td>\n    </tr>\n    <tr>\n      <th>Common stock, par value (in dollars per share)</th>\n      <td>5</td>\n      <td>5</td>\n    </tr>\n    <tr>\n      <th>Common stock, authorized (in shares)</th>\n      <td>50000000</td>\n      <td>50000000</td>\n    </tr>\n    <tr>\n      <th>Common stock, issued (in shares)</th>\n      <td>9942787</td>\n      <td>10116290</td>\n    </tr>\n    <tr>\n      <th>Common stock, outstanding (in shares)</th>\n      <td>9942787</td>\n      <td>10116290</td>\n    </tr>\n  </tbody>\n</table>\n</div>"
     },
     "execution_count": 11,
     "metadata": {},
     "output_type": "execute_result"
    }
   ],
   "source": [
    "df2"
   ],
   "metadata": {
    "collapsed": false,
    "pycharm": {
     "name": "#%%\n"
    }
   }
  },
  {
   "cell_type": "code",
   "execution_count": 8,
   "outputs": [],
   "source": [
    "#df1 = df1.T\n",
    "#df1['Entity Public Float'] = df1['Entity Public Float']/1000\n",
    "#df1 = df1.T"
   ],
   "metadata": {
    "collapsed": false,
    "pycharm": {
     "name": "#%%\n"
    }
   }
  },
  {
   "cell_type": "code",
   "execution_count": 9,
   "outputs": [],
   "source": [
    "#df1"
   ],
   "metadata": {
    "collapsed": false,
    "pycharm": {
     "name": "#%%\n"
    }
   }
  }
 ],
 "metadata": {
  "kernelspec": {
   "name": "pycharm-3e182fa1",
   "language": "python",
   "display_name": "PyCharm (TeamProject)"
  },
  "language_info": {
   "codemirror_mode": {
    "name": "ipython",
    "version": 2
   },
   "file_extension": ".py",
   "mimetype": "text/x-python",
   "name": "python",
   "nbconvert_exporter": "python",
   "pygments_lexer": "ipython2",
   "version": "2.7.6"
  }
 },
 "nbformat": 4,
 "nbformat_minor": 0
}